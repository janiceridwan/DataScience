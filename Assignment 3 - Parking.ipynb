{
 "cells": [
  {
   "cell_type": "code",
   "execution_count": 1,
   "metadata": {},
   "outputs": [
    {
     "data": {
      "text/html": [
       "<div>\n",
       "<style scoped>\n",
       "    .dataframe tbody tr th:only-of-type {\n",
       "        vertical-align: middle;\n",
       "    }\n",
       "\n",
       "    .dataframe tbody tr th {\n",
       "        vertical-align: top;\n",
       "    }\n",
       "\n",
       "    .dataframe thead th {\n",
       "        text-align: right;\n",
       "    }\n",
       "</style>\n",
       "<table border=\"1\" class=\"dataframe\">\n",
       "  <thead>\n",
       "    <tr style=\"text-align: right;\">\n",
       "      <th></th>\n",
       "      <th>SystemCodeNumber</th>\n",
       "      <th>Capacity</th>\n",
       "      <th>Occupancy</th>\n",
       "      <th>LastUpdated</th>\n",
       "    </tr>\n",
       "  </thead>\n",
       "  <tbody>\n",
       "    <tr>\n",
       "      <th>0</th>\n",
       "      <td>BHMBCCMKT01</td>\n",
       "      <td>577</td>\n",
       "      <td>61</td>\n",
       "      <td>2016-10-04 07:59:42</td>\n",
       "    </tr>\n",
       "    <tr>\n",
       "      <th>1</th>\n",
       "      <td>BHMBCCMKT01</td>\n",
       "      <td>577</td>\n",
       "      <td>64</td>\n",
       "      <td>2016-10-04 08:25:42</td>\n",
       "    </tr>\n",
       "    <tr>\n",
       "      <th>2</th>\n",
       "      <td>BHMBCCMKT01</td>\n",
       "      <td>577</td>\n",
       "      <td>80</td>\n",
       "      <td>2016-10-04 08:59:42</td>\n",
       "    </tr>\n",
       "    <tr>\n",
       "      <th>3</th>\n",
       "      <td>BHMBCCMKT01</td>\n",
       "      <td>577</td>\n",
       "      <td>107</td>\n",
       "      <td>2016-10-04 09:32:46</td>\n",
       "    </tr>\n",
       "    <tr>\n",
       "      <th>4</th>\n",
       "      <td>BHMBCCMKT01</td>\n",
       "      <td>577</td>\n",
       "      <td>150</td>\n",
       "      <td>2016-10-04 09:59:48</td>\n",
       "    </tr>\n",
       "  </tbody>\n",
       "</table>\n",
       "</div>"
      ],
      "text/plain": [
       "  SystemCodeNumber  Capacity  Occupancy          LastUpdated\n",
       "0      BHMBCCMKT01       577         61  2016-10-04 07:59:42\n",
       "1      BHMBCCMKT01       577         64  2016-10-04 08:25:42\n",
       "2      BHMBCCMKT01       577         80  2016-10-04 08:59:42\n",
       "3      BHMBCCMKT01       577        107  2016-10-04 09:32:46\n",
       "4      BHMBCCMKT01       577        150  2016-10-04 09:59:48"
      ]
     },
     "execution_count": 1,
     "metadata": {},
     "output_type": "execute_result"
    }
   ],
   "source": [
    "import pandas as pd\n",
    "from pandas import Grouper\n",
    "import seaborn as sns\n",
    "import numpy as np\n",
    "import datetime\n",
    "\n",
    "df_raw =pd.read_csv('dataset.csv')\n",
    "df_raw.head()"
   ]
  },
  {
   "cell_type": "code",
   "execution_count": 2,
   "metadata": {},
   "outputs": [
    {
     "data": {
      "text/plain": [
       "35717"
      ]
     },
     "execution_count": 2,
     "metadata": {},
     "output_type": "execute_result"
    }
   ],
   "source": [
    "len(df_raw)"
   ]
  },
  {
   "cell_type": "code",
   "execution_count": 3,
   "metadata": {},
   "outputs": [
    {
     "data": {
      "text/plain": [
       "SystemCodeNumber    object\n",
       "Capacity             int64\n",
       "Occupancy            int64\n",
       "LastUpdated         object\n",
       "dtype: object"
      ]
     },
     "execution_count": 3,
     "metadata": {},
     "output_type": "execute_result"
    }
   ],
   "source": [
    "df_raw.dtypes"
   ]
  },
  {
   "cell_type": "code",
   "execution_count": 4,
   "metadata": {},
   "outputs": [],
   "source": [
    "df_clean = df_raw.copy()\n",
    "df_clean.LastUpdated = df_clean.LastUpdated.astype('datetime64')\n",
    "df_clean['OccupationRate'] = df_clean.Occupancy / df_clean.Capacity *100\n",
    "df_clean['date'] = df_clean.LastUpdated.dt.date\n",
    "df_clean['date_time_halfhour'] = df_clean.LastUpdated.dt.round('30min')\n",
    "df_clean['time'] = df_clean.date_time_halfhour.dt.time"
   ]
  },
  {
   "cell_type": "code",
   "execution_count": 5,
   "metadata": {},
   "outputs": [
    {
     "data": {
      "text/html": [
       "<div>\n",
       "<style scoped>\n",
       "    .dataframe tbody tr th:only-of-type {\n",
       "        vertical-align: middle;\n",
       "    }\n",
       "\n",
       "    .dataframe tbody tr th {\n",
       "        vertical-align: top;\n",
       "    }\n",
       "\n",
       "    .dataframe thead th {\n",
       "        text-align: right;\n",
       "    }\n",
       "</style>\n",
       "<table border=\"1\" class=\"dataframe\">\n",
       "  <thead>\n",
       "    <tr style=\"text-align: right;\">\n",
       "      <th></th>\n",
       "      <th>SystemCodeNumber</th>\n",
       "      <th>Capacity</th>\n",
       "      <th>Occupancy</th>\n",
       "      <th>LastUpdated</th>\n",
       "      <th>OccupationRate</th>\n",
       "      <th>date</th>\n",
       "      <th>date_time_halfhour</th>\n",
       "      <th>time</th>\n",
       "    </tr>\n",
       "  </thead>\n",
       "  <tbody>\n",
       "    <tr>\n",
       "      <th>0</th>\n",
       "      <td>BHMBCCMKT01</td>\n",
       "      <td>577</td>\n",
       "      <td>61</td>\n",
       "      <td>2016-10-04 07:59:42</td>\n",
       "      <td>10.571924</td>\n",
       "      <td>2016-10-04</td>\n",
       "      <td>2016-10-04 08:00:00</td>\n",
       "      <td>08:00:00</td>\n",
       "    </tr>\n",
       "    <tr>\n",
       "      <th>1</th>\n",
       "      <td>BHMBCCMKT01</td>\n",
       "      <td>577</td>\n",
       "      <td>64</td>\n",
       "      <td>2016-10-04 08:25:42</td>\n",
       "      <td>11.091854</td>\n",
       "      <td>2016-10-04</td>\n",
       "      <td>2016-10-04 08:30:00</td>\n",
       "      <td>08:30:00</td>\n",
       "    </tr>\n",
       "    <tr>\n",
       "      <th>2</th>\n",
       "      <td>BHMBCCMKT01</td>\n",
       "      <td>577</td>\n",
       "      <td>80</td>\n",
       "      <td>2016-10-04 08:59:42</td>\n",
       "      <td>13.864818</td>\n",
       "      <td>2016-10-04</td>\n",
       "      <td>2016-10-04 09:00:00</td>\n",
       "      <td>09:00:00</td>\n",
       "    </tr>\n",
       "    <tr>\n",
       "      <th>3</th>\n",
       "      <td>BHMBCCMKT01</td>\n",
       "      <td>577</td>\n",
       "      <td>107</td>\n",
       "      <td>2016-10-04 09:32:46</td>\n",
       "      <td>18.544194</td>\n",
       "      <td>2016-10-04</td>\n",
       "      <td>2016-10-04 09:30:00</td>\n",
       "      <td>09:30:00</td>\n",
       "    </tr>\n",
       "    <tr>\n",
       "      <th>4</th>\n",
       "      <td>BHMBCCMKT01</td>\n",
       "      <td>577</td>\n",
       "      <td>150</td>\n",
       "      <td>2016-10-04 09:59:48</td>\n",
       "      <td>25.996534</td>\n",
       "      <td>2016-10-04</td>\n",
       "      <td>2016-10-04 10:00:00</td>\n",
       "      <td>10:00:00</td>\n",
       "    </tr>\n",
       "  </tbody>\n",
       "</table>\n",
       "</div>"
      ],
      "text/plain": [
       "  SystemCodeNumber  Capacity  Occupancy         LastUpdated  OccupationRate  \\\n",
       "0      BHMBCCMKT01       577         61 2016-10-04 07:59:42       10.571924   \n",
       "1      BHMBCCMKT01       577         64 2016-10-04 08:25:42       11.091854   \n",
       "2      BHMBCCMKT01       577         80 2016-10-04 08:59:42       13.864818   \n",
       "3      BHMBCCMKT01       577        107 2016-10-04 09:32:46       18.544194   \n",
       "4      BHMBCCMKT01       577        150 2016-10-04 09:59:48       25.996534   \n",
       "\n",
       "         date  date_time_halfhour      time  \n",
       "0  2016-10-04 2016-10-04 08:00:00  08:00:00  \n",
       "1  2016-10-04 2016-10-04 08:30:00  08:30:00  \n",
       "2  2016-10-04 2016-10-04 09:00:00  09:00:00  \n",
       "3  2016-10-04 2016-10-04 09:30:00  09:30:00  \n",
       "4  2016-10-04 2016-10-04 10:00:00  10:00:00  "
      ]
     },
     "execution_count": 5,
     "metadata": {},
     "output_type": "execute_result"
    }
   ],
   "source": [
    "df_clean.head()"
   ]
  },
  {
   "cell_type": "code",
   "execution_count": 6,
   "metadata": {},
   "outputs": [
    {
     "data": {
      "text/plain": [
       "time\n",
       "07:30:00      30\n",
       "08:00:00    2096\n",
       "08:30:00    1971\n",
       "09:00:00    1953\n",
       "09:30:00    1983\n",
       "10:00:00    1987\n",
       "10:30:00    1985\n",
       "11:00:00    1961\n",
       "11:30:00    1988\n",
       "12:00:00    1976\n",
       "12:30:00    1982\n",
       "13:00:00    1988\n",
       "13:30:00    1958\n",
       "14:00:00    1984\n",
       "14:30:00    1989\n",
       "15:00:00    1986\n",
       "15:30:00    1985\n",
       "16:00:00    1956\n",
       "16:30:00    1959\n",
       "dtype: int64"
      ]
     },
     "execution_count": 6,
     "metadata": {},
     "output_type": "execute_result"
    }
   ],
   "source": [
    "df_clean.groupby('time').size()"
   ]
  },
  {
   "cell_type": "code",
   "execution_count": 7,
   "metadata": {},
   "outputs": [],
   "source": [
    "df_clean = df_clean[df_clean.time > datetime.time(7,30)]"
   ]
  },
  {
   "cell_type": "code",
   "execution_count": 8,
   "metadata": {},
   "outputs": [
    {
     "data": {
      "text/plain": [
       "35687"
      ]
     },
     "execution_count": 8,
     "metadata": {},
     "output_type": "execute_result"
    }
   ],
   "source": [
    "len(df_clean)"
   ]
  },
  {
   "cell_type": "code",
   "execution_count": 9,
   "metadata": {},
   "outputs": [
    {
     "name": "stdout",
     "output_type": "stream",
     "text": [
      "207\n"
     ]
    }
   ],
   "source": [
    "# drop duplicates\n",
    "pre_len = len(df_clean)\n",
    "df_clean = df_clean.drop_duplicates()\n",
    "\n",
    "post_len = len(df_clean)\n",
    "\n",
    "dropped_len = pre_len - post_len\n",
    "print(dropped_len)"
   ]
  },
  {
   "cell_type": "code",
   "execution_count": 10,
   "metadata": {},
   "outputs": [
    {
     "name": "stdout",
     "output_type": "stream",
     "text": [
      "Minimum Percent Occupied: -1.6666666666666667\n",
      "Maximum Percent Occupied: 104.1343669250646\n"
     ]
    }
   ],
   "source": [
    "print('Minimum Percent Occupied: {:}'.format(df_clean.OccupationRate.min()))\n",
    "print('Maximum Percent Occupied: {:}' .format(df_clean.OccupationRate.max()))"
   ]
  },
  {
   "cell_type": "code",
   "execution_count": 11,
   "metadata": {},
   "outputs": [
    {
     "name": "stdout",
     "output_type": "stream",
     "text": [
      "Minimum Percent Occupied: 0\n",
      "Maximum Percent Occupied: 100\n"
     ]
    }
   ],
   "source": [
    "# Limit Occupancy to the range of zero to Capacity\n",
    "df_clean.Occupancy = df_clean.apply(lambda x: max(0, min(x['Capacity'], x['Occupancy'])), axis=1)\n",
    "df_clean['OccupationRate'] = df_clean.Occupancy / df_clean.Capacity * 100\n",
    "df_clean['OccupationRate'] = round(df_clean['OccupationRate'].astype(int), -1)\n",
    "\n",
    "# Re-check range\n",
    "print('Minimum Percent Occupied: {:}'.format(df_clean.OccupationRate.min()))\n",
    "print('Maximum Percent Occupied: {:}'.format(df_clean.OccupationRate.max()))"
   ]
  },
  {
   "cell_type": "code",
   "execution_count": 12,
   "metadata": {},
   "outputs": [
    {
     "data": {
      "text/html": [
       "<div>\n",
       "<style scoped>\n",
       "    .dataframe tbody tr th:only-of-type {\n",
       "        vertical-align: middle;\n",
       "    }\n",
       "\n",
       "    .dataframe tbody tr th {\n",
       "        vertical-align: top;\n",
       "    }\n",
       "\n",
       "    .dataframe thead th {\n",
       "        text-align: right;\n",
       "    }\n",
       "</style>\n",
       "<table border=\"1\" class=\"dataframe\">\n",
       "  <thead>\n",
       "    <tr style=\"text-align: right;\">\n",
       "      <th></th>\n",
       "      <th>SystemCodeNumber</th>\n",
       "      <th>Capacity</th>\n",
       "      <th>Occupancy</th>\n",
       "      <th>LastUpdated</th>\n",
       "      <th>OccupationRate</th>\n",
       "      <th>date</th>\n",
       "      <th>date_time_halfhour</th>\n",
       "      <th>time</th>\n",
       "    </tr>\n",
       "  </thead>\n",
       "  <tbody>\n",
       "    <tr>\n",
       "      <th>0</th>\n",
       "      <td>BHMBCCMKT01</td>\n",
       "      <td>577</td>\n",
       "      <td>61</td>\n",
       "      <td>2016-10-04 07:59:42</td>\n",
       "      <td>10</td>\n",
       "      <td>2016-10-04</td>\n",
       "      <td>2016-10-04 08:00:00</td>\n",
       "      <td>08:00:00</td>\n",
       "    </tr>\n",
       "    <tr>\n",
       "      <th>1</th>\n",
       "      <td>BHMBCCMKT01</td>\n",
       "      <td>577</td>\n",
       "      <td>64</td>\n",
       "      <td>2016-10-04 08:25:42</td>\n",
       "      <td>10</td>\n",
       "      <td>2016-10-04</td>\n",
       "      <td>2016-10-04 08:30:00</td>\n",
       "      <td>08:30:00</td>\n",
       "    </tr>\n",
       "    <tr>\n",
       "      <th>2</th>\n",
       "      <td>BHMBCCMKT01</td>\n",
       "      <td>577</td>\n",
       "      <td>80</td>\n",
       "      <td>2016-10-04 08:59:42</td>\n",
       "      <td>10</td>\n",
       "      <td>2016-10-04</td>\n",
       "      <td>2016-10-04 09:00:00</td>\n",
       "      <td>09:00:00</td>\n",
       "    </tr>\n",
       "    <tr>\n",
       "      <th>3</th>\n",
       "      <td>BHMBCCMKT01</td>\n",
       "      <td>577</td>\n",
       "      <td>107</td>\n",
       "      <td>2016-10-04 09:32:46</td>\n",
       "      <td>20</td>\n",
       "      <td>2016-10-04</td>\n",
       "      <td>2016-10-04 09:30:00</td>\n",
       "      <td>09:30:00</td>\n",
       "    </tr>\n",
       "    <tr>\n",
       "      <th>4</th>\n",
       "      <td>BHMBCCMKT01</td>\n",
       "      <td>577</td>\n",
       "      <td>150</td>\n",
       "      <td>2016-10-04 09:59:48</td>\n",
       "      <td>20</td>\n",
       "      <td>2016-10-04</td>\n",
       "      <td>2016-10-04 10:00:00</td>\n",
       "      <td>10:00:00</td>\n",
       "    </tr>\n",
       "  </tbody>\n",
       "</table>\n",
       "</div>"
      ],
      "text/plain": [
       "  SystemCodeNumber  Capacity  Occupancy         LastUpdated  OccupationRate  \\\n",
       "0      BHMBCCMKT01       577         61 2016-10-04 07:59:42              10   \n",
       "1      BHMBCCMKT01       577         64 2016-10-04 08:25:42              10   \n",
       "2      BHMBCCMKT01       577         80 2016-10-04 08:59:42              10   \n",
       "3      BHMBCCMKT01       577        107 2016-10-04 09:32:46              20   \n",
       "4      BHMBCCMKT01       577        150 2016-10-04 09:59:48              20   \n",
       "\n",
       "         date  date_time_halfhour      time  \n",
       "0  2016-10-04 2016-10-04 08:00:00  08:00:00  \n",
       "1  2016-10-04 2016-10-04 08:30:00  08:30:00  \n",
       "2  2016-10-04 2016-10-04 09:00:00  09:00:00  \n",
       "3  2016-10-04 2016-10-04 09:30:00  09:30:00  \n",
       "4  2016-10-04 2016-10-04 10:00:00  10:00:00  "
      ]
     },
     "execution_count": 12,
     "metadata": {},
     "output_type": "execute_result"
    }
   ],
   "source": [
    "df_clean.head()"
   ]
  },
  {
   "cell_type": "code",
   "execution_count": 13,
   "metadata": {},
   "outputs": [
    {
     "data": {
      "text/html": [
       "<div>\n",
       "<style scoped>\n",
       "    .dataframe tbody tr th:only-of-type {\n",
       "        vertical-align: middle;\n",
       "    }\n",
       "\n",
       "    .dataframe tbody tr th {\n",
       "        vertical-align: top;\n",
       "    }\n",
       "\n",
       "    .dataframe thead th {\n",
       "        text-align: right;\n",
       "    }\n",
       "</style>\n",
       "<table border=\"1\" class=\"dataframe\">\n",
       "  <thead>\n",
       "    <tr style=\"text-align: right;\">\n",
       "      <th></th>\n",
       "      <th>SystemCodeNumber</th>\n",
       "      <th>Capacity</th>\n",
       "      <th>Occupancy</th>\n",
       "      <th>LastUpdated</th>\n",
       "      <th>OccupationRate</th>\n",
       "      <th>date</th>\n",
       "      <th>date_time_halfhour</th>\n",
       "      <th>time</th>\n",
       "      <th>ndate_time_halfhour</th>\n",
       "    </tr>\n",
       "  </thead>\n",
       "  <tbody>\n",
       "    <tr>\n",
       "      <th>0</th>\n",
       "      <td>BHMBCCMKT01</td>\n",
       "      <td>577</td>\n",
       "      <td>61</td>\n",
       "      <td>2016-10-04 07:59:42</td>\n",
       "      <td>10</td>\n",
       "      <td>2016-10-04</td>\n",
       "      <td>2016-10-04 08:00:00</td>\n",
       "      <td>08:00:00</td>\n",
       "      <td>1475568000000000000</td>\n",
       "    </tr>\n",
       "    <tr>\n",
       "      <th>1</th>\n",
       "      <td>BHMBCCMKT01</td>\n",
       "      <td>577</td>\n",
       "      <td>64</td>\n",
       "      <td>2016-10-04 08:25:42</td>\n",
       "      <td>10</td>\n",
       "      <td>2016-10-04</td>\n",
       "      <td>2016-10-04 08:30:00</td>\n",
       "      <td>08:30:00</td>\n",
       "      <td>1475569800000000000</td>\n",
       "    </tr>\n",
       "    <tr>\n",
       "      <th>2</th>\n",
       "      <td>BHMBCCMKT01</td>\n",
       "      <td>577</td>\n",
       "      <td>80</td>\n",
       "      <td>2016-10-04 08:59:42</td>\n",
       "      <td>10</td>\n",
       "      <td>2016-10-04</td>\n",
       "      <td>2016-10-04 09:00:00</td>\n",
       "      <td>09:00:00</td>\n",
       "      <td>1475571600000000000</td>\n",
       "    </tr>\n",
       "    <tr>\n",
       "      <th>3</th>\n",
       "      <td>BHMBCCMKT01</td>\n",
       "      <td>577</td>\n",
       "      <td>107</td>\n",
       "      <td>2016-10-04 09:32:46</td>\n",
       "      <td>20</td>\n",
       "      <td>2016-10-04</td>\n",
       "      <td>2016-10-04 09:30:00</td>\n",
       "      <td>09:30:00</td>\n",
       "      <td>1475573400000000000</td>\n",
       "    </tr>\n",
       "    <tr>\n",
       "      <th>4</th>\n",
       "      <td>BHMBCCMKT01</td>\n",
       "      <td>577</td>\n",
       "      <td>150</td>\n",
       "      <td>2016-10-04 09:59:48</td>\n",
       "      <td>20</td>\n",
       "      <td>2016-10-04</td>\n",
       "      <td>2016-10-04 10:00:00</td>\n",
       "      <td>10:00:00</td>\n",
       "      <td>1475575200000000000</td>\n",
       "    </tr>\n",
       "  </tbody>\n",
       "</table>\n",
       "</div>"
      ],
      "text/plain": [
       "  SystemCodeNumber  Capacity  Occupancy         LastUpdated  OccupationRate  \\\n",
       "0      BHMBCCMKT01       577         61 2016-10-04 07:59:42              10   \n",
       "1      BHMBCCMKT01       577         64 2016-10-04 08:25:42              10   \n",
       "2      BHMBCCMKT01       577         80 2016-10-04 08:59:42              10   \n",
       "3      BHMBCCMKT01       577        107 2016-10-04 09:32:46              20   \n",
       "4      BHMBCCMKT01       577        150 2016-10-04 09:59:48              20   \n",
       "\n",
       "         date  date_time_halfhour      time  ndate_time_halfhour  \n",
       "0  2016-10-04 2016-10-04 08:00:00  08:00:00  1475568000000000000  \n",
       "1  2016-10-04 2016-10-04 08:30:00  08:30:00  1475569800000000000  \n",
       "2  2016-10-04 2016-10-04 09:00:00  09:00:00  1475571600000000000  \n",
       "3  2016-10-04 2016-10-04 09:30:00  09:30:00  1475573400000000000  \n",
       "4  2016-10-04 2016-10-04 10:00:00  10:00:00  1475575200000000000  "
      ]
     },
     "execution_count": 13,
     "metadata": {},
     "output_type": "execute_result"
    }
   ],
   "source": [
    "df_clean['ndate_time_halfhour'] = pd.to_numeric(df_clean.date_time_halfhour)\n",
    "df_clean.head()"
   ]
  },
  {
   "cell_type": "code",
   "execution_count": 14,
   "metadata": {},
   "outputs": [
    {
     "data": {
      "text/html": [
       "<div>\n",
       "<style scoped>\n",
       "    .dataframe tbody tr th:only-of-type {\n",
       "        vertical-align: middle;\n",
       "    }\n",
       "\n",
       "    .dataframe tbody tr th {\n",
       "        vertical-align: top;\n",
       "    }\n",
       "\n",
       "    .dataframe thead th {\n",
       "        text-align: right;\n",
       "    }\n",
       "</style>\n",
       "<table border=\"1\" class=\"dataframe\">\n",
       "  <thead>\n",
       "    <tr style=\"text-align: right;\">\n",
       "      <th></th>\n",
       "      <th>SystemCodeNumber</th>\n",
       "      <th>Capacity</th>\n",
       "      <th>Occupancy</th>\n",
       "      <th>LastUpdated</th>\n",
       "      <th>OccupationRate</th>\n",
       "      <th>date</th>\n",
       "      <th>date_time_halfhour</th>\n",
       "      <th>time</th>\n",
       "      <th>ndate_time_halfhour</th>\n",
       "    </tr>\n",
       "  </thead>\n",
       "  <tbody>\n",
       "    <tr>\n",
       "      <th>0</th>\n",
       "      <td>BHMBCCMKT01</td>\n",
       "      <td>577</td>\n",
       "      <td>61</td>\n",
       "      <td>2016-10-04 07:59:42</td>\n",
       "      <td>10</td>\n",
       "      <td>2016-10-04</td>\n",
       "      <td>2016-10-04 08:00:00</td>\n",
       "      <td>08:00:00</td>\n",
       "      <td>1475568000000000000</td>\n",
       "    </tr>\n",
       "    <tr>\n",
       "      <th>1</th>\n",
       "      <td>BHMBCCMKT01</td>\n",
       "      <td>577</td>\n",
       "      <td>64</td>\n",
       "      <td>2016-10-04 08:25:42</td>\n",
       "      <td>10</td>\n",
       "      <td>2016-10-04</td>\n",
       "      <td>2016-10-04 08:30:00</td>\n",
       "      <td>08:30:00</td>\n",
       "      <td>1475569800000000000</td>\n",
       "    </tr>\n",
       "    <tr>\n",
       "      <th>2</th>\n",
       "      <td>BHMBCCMKT01</td>\n",
       "      <td>577</td>\n",
       "      <td>80</td>\n",
       "      <td>2016-10-04 08:59:42</td>\n",
       "      <td>10</td>\n",
       "      <td>2016-10-04</td>\n",
       "      <td>2016-10-04 09:00:00</td>\n",
       "      <td>09:00:00</td>\n",
       "      <td>1475571600000000000</td>\n",
       "    </tr>\n",
       "    <tr>\n",
       "      <th>3</th>\n",
       "      <td>BHMBCCMKT01</td>\n",
       "      <td>577</td>\n",
       "      <td>107</td>\n",
       "      <td>2016-10-04 09:32:46</td>\n",
       "      <td>20</td>\n",
       "      <td>2016-10-04</td>\n",
       "      <td>2016-10-04 09:30:00</td>\n",
       "      <td>09:30:00</td>\n",
       "      <td>1475573400000000000</td>\n",
       "    </tr>\n",
       "    <tr>\n",
       "      <th>4</th>\n",
       "      <td>BHMBCCMKT01</td>\n",
       "      <td>577</td>\n",
       "      <td>150</td>\n",
       "      <td>2016-10-04 09:59:48</td>\n",
       "      <td>20</td>\n",
       "      <td>2016-10-04</td>\n",
       "      <td>2016-10-04 10:00:00</td>\n",
       "      <td>10:00:00</td>\n",
       "      <td>1475575200000000000</td>\n",
       "    </tr>\n",
       "  </tbody>\n",
       "</table>\n",
       "</div>"
      ],
      "text/plain": [
       "  SystemCodeNumber  Capacity  Occupancy         LastUpdated  OccupationRate  \\\n",
       "0      BHMBCCMKT01       577         61 2016-10-04 07:59:42              10   \n",
       "1      BHMBCCMKT01       577         64 2016-10-04 08:25:42              10   \n",
       "2      BHMBCCMKT01       577         80 2016-10-04 08:59:42              10   \n",
       "3      BHMBCCMKT01       577        107 2016-10-04 09:32:46              20   \n",
       "4      BHMBCCMKT01       577        150 2016-10-04 09:59:48              20   \n",
       "\n",
       "         date  date_time_halfhour      time  ndate_time_halfhour  \n",
       "0  2016-10-04 2016-10-04 08:00:00  08:00:00  1475568000000000000  \n",
       "1  2016-10-04 2016-10-04 08:30:00  08:30:00  1475569800000000000  \n",
       "2  2016-10-04 2016-10-04 09:00:00  09:00:00  1475571600000000000  \n",
       "3  2016-10-04 2016-10-04 09:30:00  09:30:00  1475573400000000000  \n",
       "4  2016-10-04 2016-10-04 10:00:00  10:00:00  1475575200000000000  "
      ]
     },
     "execution_count": 14,
     "metadata": {},
     "output_type": "execute_result"
    }
   ],
   "source": [
    "gb = df_clean.groupby(\"SystemCodeNumber\")\n",
    "gb.get_group(\"BHMBCCMKT01\").head()"
   ]
  },
  {
   "cell_type": "code",
   "execution_count": 15,
   "metadata": {},
   "outputs": [],
   "source": [
    "gb_occ = gb.OccupationRate.mean()"
   ]
  },
  {
   "cell_type": "code",
   "execution_count": 16,
   "metadata": {},
   "outputs": [
    {
     "data": {
      "text/plain": [
       "<matplotlib.axes._subplots.AxesSubplot at 0x22d01f01f98>"
      ]
     },
     "execution_count": 16,
     "metadata": {},
     "output_type": "execute_result"
    },
    {
     "data": {
      "image/png": "[encoded data removed]",
      "text/plain": [
       "<Figure size 720x345.6 with 1 Axes>"
      ]
     },
     "metadata": {
      "needs_background": "light"
     },
     "output_type": "display_data"
    }
   ],
   "source": [
    "gb_occ.plot.bar(y='OccupationRate', figsize=(10,4.8), title='Occupancy rate of each car park')"
   ]
  },
  {
   "cell_type": "code",
   "execution_count": 17,
   "metadata": {},
   "outputs": [
    {
     "data": {
      "text/plain": [
       "<matplotlib.axes._subplots.AxesSubplot at 0x22d013f5c18>"
      ]
     },
     "execution_count": 17,
     "metadata": {},
     "output_type": "execute_result"
    },
    {
     "data": {
      "image/png": "[encoded data removed]",
      "text/plain": [
       "<Figure size 720x345.6 with 1 Axes>"
      ]
     },
     "metadata": {
      "needs_background": "light"
     },
     "output_type": "display_data"
    }
   ],
   "source": [
    "gb.get_group(\"BHMBCCMKT01\").plot.line(y='OccupationRate', x = 'date_time_halfhour', figsize=(10,4.8), title='Daily occupancy of BHMBCCMKT01')"
   ]
  },
  {
   "cell_type": "code",
   "execution_count": 18,
   "metadata": {},
   "outputs": [
    {
     "data": {
      "text/plain": [
       "<matplotlib.axes._subplots.AxesSubplot at 0x22d01512a90>"
      ]
     },
     "execution_count": 18,
     "metadata": {},
     "output_type": "execute_result"
    },
    {
     "data": {
      "image/png": "[encoded data removed]",
      "text/plain": [
       "<Figure size 720x345.6 with 1 Axes>"
      ]
     },
     "metadata": {
      "needs_background": "light"
     },
     "output_type": "display_data"
    }
   ],
   "source": [
    "gb.get_group(\"BHMBCCTHL01\").plot.line(y='OccupationRate', x = 'date_time_halfhour', figsize=(10,4.8), title='Daily occupancy BHMBCCTHL01')"
   ]
  },
  {
   "cell_type": "code",
   "execution_count": 19,
   "metadata": {},
   "outputs": [
    {
     "data": {
      "text/html": [
       "<div>\n",
       "<style scoped>\n",
       "    .dataframe tbody tr th:only-of-type {\n",
       "        vertical-align: middle;\n",
       "    }\n",
       "\n",
       "    .dataframe tbody tr th {\n",
       "        vertical-align: top;\n",
       "    }\n",
       "\n",
       "    .dataframe thead th {\n",
       "        text-align: right;\n",
       "    }\n",
       "</style>\n",
       "<table border=\"1\" class=\"dataframe\">\n",
       "  <thead>\n",
       "    <tr style=\"text-align: right;\">\n",
       "      <th></th>\n",
       "      <th>SystemCodeNumber</th>\n",
       "      <th>Capacity</th>\n",
       "      <th>Occupancy</th>\n",
       "      <th>LastUpdated</th>\n",
       "      <th>OccupationRate</th>\n",
       "      <th>date</th>\n",
       "      <th>date_time_halfhour</th>\n",
       "      <th>time</th>\n",
       "      <th>ndate_time_halfhour</th>\n",
       "    </tr>\n",
       "  </thead>\n",
       "  <tbody>\n",
       "    <tr>\n",
       "      <th>3882</th>\n",
       "      <td>BHMBCCTHL01</td>\n",
       "      <td>387</td>\n",
       "      <td>120</td>\n",
       "      <td>2016-10-04 07:59:42</td>\n",
       "      <td>30</td>\n",
       "      <td>2016-10-04</td>\n",
       "      <td>2016-10-04 08:00:00</td>\n",
       "      <td>08:00:00</td>\n",
       "      <td>1475568000000000000</td>\n",
       "    </tr>\n",
       "    <tr>\n",
       "      <th>3883</th>\n",
       "      <td>BHMBCCTHL01</td>\n",
       "      <td>387</td>\n",
       "      <td>129</td>\n",
       "      <td>2016-10-04 08:25:42</td>\n",
       "      <td>30</td>\n",
       "      <td>2016-10-04</td>\n",
       "      <td>2016-10-04 08:30:00</td>\n",
       "      <td>08:30:00</td>\n",
       "      <td>1475569800000000000</td>\n",
       "    </tr>\n",
       "    <tr>\n",
       "      <th>3884</th>\n",
       "      <td>BHMBCCTHL01</td>\n",
       "      <td>387</td>\n",
       "      <td>155</td>\n",
       "      <td>2016-10-04 08:59:42</td>\n",
       "      <td>40</td>\n",
       "      <td>2016-10-04</td>\n",
       "      <td>2016-10-04 09:00:00</td>\n",
       "      <td>09:00:00</td>\n",
       "      <td>1475571600000000000</td>\n",
       "    </tr>\n",
       "    <tr>\n",
       "      <th>3885</th>\n",
       "      <td>BHMBCCTHL01</td>\n",
       "      <td>387</td>\n",
       "      <td>204</td>\n",
       "      <td>2016-10-04 09:32:46</td>\n",
       "      <td>50</td>\n",
       "      <td>2016-10-04</td>\n",
       "      <td>2016-10-04 09:30:00</td>\n",
       "      <td>09:30:00</td>\n",
       "      <td>1475573400000000000</td>\n",
       "    </tr>\n",
       "    <tr>\n",
       "      <th>3886</th>\n",
       "      <td>BHMBCCTHL01</td>\n",
       "      <td>387</td>\n",
       "      <td>236</td>\n",
       "      <td>2016-10-04 09:59:48</td>\n",
       "      <td>60</td>\n",
       "      <td>2016-10-04</td>\n",
       "      <td>2016-10-04 10:00:00</td>\n",
       "      <td>10:00:00</td>\n",
       "      <td>1475575200000000000</td>\n",
       "    </tr>\n",
       "    <tr>\n",
       "      <th>...</th>\n",
       "      <td>...</td>\n",
       "      <td>...</td>\n",
       "      <td>...</td>\n",
       "      <td>...</td>\n",
       "      <td>...</td>\n",
       "      <td>...</td>\n",
       "      <td>...</td>\n",
       "      <td>...</td>\n",
       "      <td>...</td>\n",
       "    </tr>\n",
       "    <tr>\n",
       "      <th>5189</th>\n",
       "      <td>BHMBCCTHL01</td>\n",
       "      <td>387</td>\n",
       "      <td>387</td>\n",
       "      <td>2016-12-19 14:30:33</td>\n",
       "      <td>100</td>\n",
       "      <td>2016-12-19</td>\n",
       "      <td>2016-12-19 14:30:00</td>\n",
       "      <td>14:30:00</td>\n",
       "      <td>1482157800000000000</td>\n",
       "    </tr>\n",
       "    <tr>\n",
       "      <th>5190</th>\n",
       "      <td>BHMBCCTHL01</td>\n",
       "      <td>387</td>\n",
       "      <td>387</td>\n",
       "      <td>2016-12-19 15:03:34</td>\n",
       "      <td>100</td>\n",
       "      <td>2016-12-19</td>\n",
       "      <td>2016-12-19 15:00:00</td>\n",
       "      <td>15:00:00</td>\n",
       "      <td>1482159600000000000</td>\n",
       "    </tr>\n",
       "    <tr>\n",
       "      <th>5191</th>\n",
       "      <td>BHMBCCTHL01</td>\n",
       "      <td>387</td>\n",
       "      <td>387</td>\n",
       "      <td>2016-12-19 15:29:33</td>\n",
       "      <td>100</td>\n",
       "      <td>2016-12-19</td>\n",
       "      <td>2016-12-19 15:30:00</td>\n",
       "      <td>15:30:00</td>\n",
       "      <td>1482161400000000000</td>\n",
       "    </tr>\n",
       "    <tr>\n",
       "      <th>5192</th>\n",
       "      <td>BHMBCCTHL01</td>\n",
       "      <td>387</td>\n",
       "      <td>387</td>\n",
       "      <td>2016-12-19 16:03:35</td>\n",
       "      <td>100</td>\n",
       "      <td>2016-12-19</td>\n",
       "      <td>2016-12-19 16:00:00</td>\n",
       "      <td>16:00:00</td>\n",
       "      <td>1482163200000000000</td>\n",
       "    </tr>\n",
       "    <tr>\n",
       "      <th>5193</th>\n",
       "      <td>BHMBCCTHL01</td>\n",
       "      <td>387</td>\n",
       "      <td>387</td>\n",
       "      <td>2016-12-19 16:30:35</td>\n",
       "      <td>100</td>\n",
       "      <td>2016-12-19</td>\n",
       "      <td>2016-12-19 16:30:00</td>\n",
       "      <td>16:30:00</td>\n",
       "      <td>1482165000000000000</td>\n",
       "    </tr>\n",
       "  </tbody>\n",
       "</table>\n",
       "<p>1307 rows × 9 columns</p>\n",
       "</div>"
      ],
      "text/plain": [
       "     SystemCodeNumber  Capacity  Occupancy         LastUpdated  \\\n",
       "3882      BHMBCCTHL01       387        120 2016-10-04 07:59:42   \n",
       "3883      BHMBCCTHL01       387        129 2016-10-04 08:25:42   \n",
       "3884      BHMBCCTHL01       387        155 2016-10-04 08:59:42   \n",
       "3885      BHMBCCTHL01       387        204 2016-10-04 09:32:46   \n",
       "3886      BHMBCCTHL01       387        236 2016-10-04 09:59:48   \n",
       "...               ...       ...        ...                 ...   \n",
       "5189      BHMBCCTHL01       387        387 2016-12-19 14:30:33   \n",
       "5190      BHMBCCTHL01       387        387 2016-12-19 15:03:34   \n",
       "5191      BHMBCCTHL01       387        387 2016-12-19 15:29:33   \n",
       "5192      BHMBCCTHL01       387        387 2016-12-19 16:03:35   \n",
       "5193      BHMBCCTHL01       387        387 2016-12-19 16:30:35   \n",
       "\n",
       "      OccupationRate        date  date_time_halfhour      time  \\\n",
       "3882              30  2016-10-04 2016-10-04 08:00:00  08:00:00   \n",
       "3883              30  2016-10-04 2016-10-04 08:30:00  08:30:00   \n",
       "3884              40  2016-10-04 2016-10-04 09:00:00  09:00:00   \n",
       "3885              50  2016-10-04 2016-10-04 09:30:00  09:30:00   \n",
       "3886              60  2016-10-04 2016-10-04 10:00:00  10:00:00   \n",
       "...              ...         ...                 ...       ...   \n",
       "5189             100  2016-12-19 2016-12-19 14:30:00  14:30:00   \n",
       "5190             100  2016-12-19 2016-12-19 15:00:00  15:00:00   \n",
       "5191             100  2016-12-19 2016-12-19 15:30:00  15:30:00   \n",
       "5192             100  2016-12-19 2016-12-19 16:00:00  16:00:00   \n",
       "5193             100  2016-12-19 2016-12-19 16:30:00  16:30:00   \n",
       "\n",
       "      ndate_time_halfhour  \n",
       "3882  1475568000000000000  \n",
       "3883  1475569800000000000  \n",
       "3884  1475571600000000000  \n",
       "3885  1475573400000000000  \n",
       "3886  1475575200000000000  \n",
       "...                   ...  \n",
       "5189  1482157800000000000  \n",
       "5190  1482159600000000000  \n",
       "5191  1482161400000000000  \n",
       "5192  1482163200000000000  \n",
       "5193  1482165000000000000  \n",
       "\n",
       "[1307 rows x 9 columns]"
      ]
     },
     "execution_count": 19,
     "metadata": {},
     "output_type": "execute_result"
    }
   ],
   "source": [
    "join1 = gb.get_group(\"BHMBCCTHL01\")\n",
    "join1"
   ]
  },
  {
   "cell_type": "code",
   "execution_count": 20,
   "metadata": {},
   "outputs": [
    {
     "data": {
      "text/html": [
       "<div>\n",
       "<style scoped>\n",
       "    .dataframe tbody tr th:only-of-type {\n",
       "        vertical-align: middle;\n",
       "    }\n",
       "\n",
       "    .dataframe tbody tr th {\n",
       "        vertical-align: top;\n",
       "    }\n",
       "\n",
       "    .dataframe thead th {\n",
       "        text-align: right;\n",
       "    }\n",
       "</style>\n",
       "<table border=\"1\" class=\"dataframe\">\n",
       "  <thead>\n",
       "    <tr style=\"text-align: right;\">\n",
       "      <th></th>\n",
       "      <th>SystemCodeNumber</th>\n",
       "      <th>Capacity</th>\n",
       "      <th>Occupancy</th>\n",
       "      <th>LastUpdated</th>\n",
       "      <th>OccupationRate</th>\n",
       "      <th>date</th>\n",
       "      <th>date_time_halfhour</th>\n",
       "      <th>time</th>\n",
       "      <th>ndate_time_halfhour</th>\n",
       "    </tr>\n",
       "  </thead>\n",
       "  <tbody>\n",
       "    <tr>\n",
       "      <th>0</th>\n",
       "      <td>BHMBCCMKT01</td>\n",
       "      <td>577</td>\n",
       "      <td>61</td>\n",
       "      <td>2016-10-04 07:59:42</td>\n",
       "      <td>10</td>\n",
       "      <td>2016-10-04</td>\n",
       "      <td>2016-10-04 08:00:00</td>\n",
       "      <td>08:00:00</td>\n",
       "      <td>1475568000000000000</td>\n",
       "    </tr>\n",
       "    <tr>\n",
       "      <th>1</th>\n",
       "      <td>BHMBCCMKT01</td>\n",
       "      <td>577</td>\n",
       "      <td>64</td>\n",
       "      <td>2016-10-04 08:25:42</td>\n",
       "      <td>10</td>\n",
       "      <td>2016-10-04</td>\n",
       "      <td>2016-10-04 08:30:00</td>\n",
       "      <td>08:30:00</td>\n",
       "      <td>1475569800000000000</td>\n",
       "    </tr>\n",
       "    <tr>\n",
       "      <th>2</th>\n",
       "      <td>BHMBCCMKT01</td>\n",
       "      <td>577</td>\n",
       "      <td>80</td>\n",
       "      <td>2016-10-04 08:59:42</td>\n",
       "      <td>10</td>\n",
       "      <td>2016-10-04</td>\n",
       "      <td>2016-10-04 09:00:00</td>\n",
       "      <td>09:00:00</td>\n",
       "      <td>1475571600000000000</td>\n",
       "    </tr>\n",
       "    <tr>\n",
       "      <th>3</th>\n",
       "      <td>BHMBCCMKT01</td>\n",
       "      <td>577</td>\n",
       "      <td>107</td>\n",
       "      <td>2016-10-04 09:32:46</td>\n",
       "      <td>20</td>\n",
       "      <td>2016-10-04</td>\n",
       "      <td>2016-10-04 09:30:00</td>\n",
       "      <td>09:30:00</td>\n",
       "      <td>1475573400000000000</td>\n",
       "    </tr>\n",
       "    <tr>\n",
       "      <th>4</th>\n",
       "      <td>BHMBCCMKT01</td>\n",
       "      <td>577</td>\n",
       "      <td>150</td>\n",
       "      <td>2016-10-04 09:59:48</td>\n",
       "      <td>20</td>\n",
       "      <td>2016-10-04</td>\n",
       "      <td>2016-10-04 10:00:00</td>\n",
       "      <td>10:00:00</td>\n",
       "      <td>1475575200000000000</td>\n",
       "    </tr>\n",
       "    <tr>\n",
       "      <th>...</th>\n",
       "      <td>...</td>\n",
       "      <td>...</td>\n",
       "      <td>...</td>\n",
       "      <td>...</td>\n",
       "      <td>...</td>\n",
       "      <td>...</td>\n",
       "      <td>...</td>\n",
       "      <td>...</td>\n",
       "      <td>...</td>\n",
       "    </tr>\n",
       "    <tr>\n",
       "      <th>1307</th>\n",
       "      <td>BHMBCCMKT01</td>\n",
       "      <td>577</td>\n",
       "      <td>309</td>\n",
       "      <td>2016-12-19 14:30:33</td>\n",
       "      <td>50</td>\n",
       "      <td>2016-12-19</td>\n",
       "      <td>2016-12-19 14:30:00</td>\n",
       "      <td>14:30:00</td>\n",
       "      <td>1482157800000000000</td>\n",
       "    </tr>\n",
       "    <tr>\n",
       "      <th>1308</th>\n",
       "      <td>BHMBCCMKT01</td>\n",
       "      <td>577</td>\n",
       "      <td>300</td>\n",
       "      <td>2016-12-19 15:03:34</td>\n",
       "      <td>50</td>\n",
       "      <td>2016-12-19</td>\n",
       "      <td>2016-12-19 15:00:00</td>\n",
       "      <td>15:00:00</td>\n",
       "      <td>1482159600000000000</td>\n",
       "    </tr>\n",
       "    <tr>\n",
       "      <th>1309</th>\n",
       "      <td>BHMBCCMKT01</td>\n",
       "      <td>577</td>\n",
       "      <td>274</td>\n",
       "      <td>2016-12-19 15:29:33</td>\n",
       "      <td>50</td>\n",
       "      <td>2016-12-19</td>\n",
       "      <td>2016-12-19 15:30:00</td>\n",
       "      <td>15:30:00</td>\n",
       "      <td>1482161400000000000</td>\n",
       "    </tr>\n",
       "    <tr>\n",
       "      <th>1310</th>\n",
       "      <td>BHMBCCMKT01</td>\n",
       "      <td>577</td>\n",
       "      <td>230</td>\n",
       "      <td>2016-12-19 16:03:35</td>\n",
       "      <td>40</td>\n",
       "      <td>2016-12-19</td>\n",
       "      <td>2016-12-19 16:00:00</td>\n",
       "      <td>16:00:00</td>\n",
       "      <td>1482163200000000000</td>\n",
       "    </tr>\n",
       "    <tr>\n",
       "      <th>1311</th>\n",
       "      <td>BHMBCCMKT01</td>\n",
       "      <td>577</td>\n",
       "      <td>193</td>\n",
       "      <td>2016-12-19 16:30:35</td>\n",
       "      <td>30</td>\n",
       "      <td>2016-12-19</td>\n",
       "      <td>2016-12-19 16:30:00</td>\n",
       "      <td>16:30:00</td>\n",
       "      <td>1482165000000000000</td>\n",
       "    </tr>\n",
       "  </tbody>\n",
       "</table>\n",
       "<p>1307 rows × 9 columns</p>\n",
       "</div>"
      ],
      "text/plain": [
       "     SystemCodeNumber  Capacity  Occupancy         LastUpdated  \\\n",
       "0         BHMBCCMKT01       577         61 2016-10-04 07:59:42   \n",
       "1         BHMBCCMKT01       577         64 2016-10-04 08:25:42   \n",
       "2         BHMBCCMKT01       577         80 2016-10-04 08:59:42   \n",
       "3         BHMBCCMKT01       577        107 2016-10-04 09:32:46   \n",
       "4         BHMBCCMKT01       577        150 2016-10-04 09:59:48   \n",
       "...               ...       ...        ...                 ...   \n",
       "1307      BHMBCCMKT01       577        309 2016-12-19 14:30:33   \n",
       "1308      BHMBCCMKT01       577        300 2016-12-19 15:03:34   \n",
       "1309      BHMBCCMKT01       577        274 2016-12-19 15:29:33   \n",
       "1310      BHMBCCMKT01       577        230 2016-12-19 16:03:35   \n",
       "1311      BHMBCCMKT01       577        193 2016-12-19 16:30:35   \n",
       "\n",
       "      OccupationRate        date  date_time_halfhour      time  \\\n",
       "0                 10  2016-10-04 2016-10-04 08:00:00  08:00:00   \n",
       "1                 10  2016-10-04 2016-10-04 08:30:00  08:30:00   \n",
       "2                 10  2016-10-04 2016-10-04 09:00:00  09:00:00   \n",
       "3                 20  2016-10-04 2016-10-04 09:30:00  09:30:00   \n",
       "4                 20  2016-10-04 2016-10-04 10:00:00  10:00:00   \n",
       "...              ...         ...                 ...       ...   \n",
       "1307              50  2016-12-19 2016-12-19 14:30:00  14:30:00   \n",
       "1308              50  2016-12-19 2016-12-19 15:00:00  15:00:00   \n",
       "1309              50  2016-12-19 2016-12-19 15:30:00  15:30:00   \n",
       "1310              40  2016-12-19 2016-12-19 16:00:00  16:00:00   \n",
       "1311              30  2016-12-19 2016-12-19 16:30:00  16:30:00   \n",
       "\n",
       "      ndate_time_halfhour  \n",
       "0     1475568000000000000  \n",
       "1     1475569800000000000  \n",
       "2     1475571600000000000  \n",
       "3     1475573400000000000  \n",
       "4     1475575200000000000  \n",
       "...                   ...  \n",
       "1307  1482157800000000000  \n",
       "1308  1482159600000000000  \n",
       "1309  1482161400000000000  \n",
       "1310  1482163200000000000  \n",
       "1311  1482165000000000000  \n",
       "\n",
       "[1307 rows x 9 columns]"
      ]
     },
     "execution_count": 20,
     "metadata": {},
     "output_type": "execute_result"
    }
   ],
   "source": [
    "join2 = gb.get_group(\"BHMBCCMKT01\")\n",
    "join2"
   ]
  },
  {
   "cell_type": "code",
   "execution_count": 21,
   "metadata": {},
   "outputs": [
    {
     "data": {
      "text/plain": [
       "<matplotlib.axes._subplots.AxesSubplot at 0x22d01586f60>"
      ]
     },
     "execution_count": 21,
     "metadata": {},
     "output_type": "execute_result"
    },
    {
     "data": {
      "image/png": "[encoded data removed]",
      "text/plain": [
       "<Figure size 720x345.6 with 1 Axes>"
      ]
     },
     "metadata": {
      "needs_background": "light"
     },
     "output_type": "display_data"
    }
   ],
   "source": [
    "weekly1=join1.groupby(Grouper(key='date_time_halfhour', freq='W')).mean()\n",
    "weekly1.plot.bar(y='OccupationRate', figsize=(10,4.8), title='Weekly mean occupancy rate of BHMBCCTHL01')"
   ]
  },
  {
   "cell_type": "code",
   "execution_count": 22,
   "metadata": {},
   "outputs": [
    {
     "data": {
      "text/plain": [
       "<matplotlib.axes._subplots.AxesSubplot at 0x22d0163c630>"
      ]
     },
     "execution_count": 22,
     "metadata": {},
     "output_type": "execute_result"
    },
    {
     "data": {
      "image/png": "[encoded data removed]",
      "text/plain": [
       "<Figure size 720x345.6 with 1 Axes>"
      ]
     },
     "metadata": {
      "needs_background": "light"
     },
     "output_type": "display_data"
    }
   ],
   "source": [
    "weekly2=join2.groupby(Grouper(key='date_time_halfhour', freq='W')).mean()\n",
    "weekly2.plot.bar(y='OccupationRate', figsize=(10,4.8), title='Weekly mean occupancy rate of BHMBCCMKT01')"
   ]
  },
  {
   "cell_type": "code",
   "execution_count": 23,
   "metadata": {},
   "outputs": [
    {
     "data": {
      "text/html": [
       "<div>\n",
       "<style scoped>\n",
       "    .dataframe tbody tr th:only-of-type {\n",
       "        vertical-align: middle;\n",
       "    }\n",
       "\n",
       "    .dataframe tbody tr th {\n",
       "        vertical-align: top;\n",
       "    }\n",
       "\n",
       "    .dataframe thead th {\n",
       "        text-align: right;\n",
       "    }\n",
       "</style>\n",
       "<table border=\"1\" class=\"dataframe\">\n",
       "  <thead>\n",
       "    <tr style=\"text-align: right;\">\n",
       "      <th></th>\n",
       "      <th>SystemCodeNumber</th>\n",
       "      <th>Capacity</th>\n",
       "      <th>Occupancy</th>\n",
       "      <th>LastUpdated</th>\n",
       "      <th>OccupationRate</th>\n",
       "      <th>date</th>\n",
       "      <th>date_time_halfhour</th>\n",
       "      <th>time</th>\n",
       "      <th>ndate_time_halfhour</th>\n",
       "    </tr>\n",
       "  </thead>\n",
       "  <tbody>\n",
       "    <tr>\n",
       "      <th>3882</th>\n",
       "      <td>BHMBCCTHL01</td>\n",
       "      <td>387</td>\n",
       "      <td>120</td>\n",
       "      <td>2016-10-04 07:59:42</td>\n",
       "      <td>30</td>\n",
       "      <td>2016-10-04</td>\n",
       "      <td>2016-10-04 08:00:00</td>\n",
       "      <td>08:00:00</td>\n",
       "      <td>1475568000000000000</td>\n",
       "    </tr>\n",
       "    <tr>\n",
       "      <th>3883</th>\n",
       "      <td>BHMBCCTHL01</td>\n",
       "      <td>387</td>\n",
       "      <td>129</td>\n",
       "      <td>2016-10-04 08:25:42</td>\n",
       "      <td>30</td>\n",
       "      <td>2016-10-04</td>\n",
       "      <td>2016-10-04 08:30:00</td>\n",
       "      <td>08:30:00</td>\n",
       "      <td>1475569800000000000</td>\n",
       "    </tr>\n",
       "    <tr>\n",
       "      <th>3884</th>\n",
       "      <td>BHMBCCTHL01</td>\n",
       "      <td>387</td>\n",
       "      <td>155</td>\n",
       "      <td>2016-10-04 08:59:42</td>\n",
       "      <td>40</td>\n",
       "      <td>2016-10-04</td>\n",
       "      <td>2016-10-04 09:00:00</td>\n",
       "      <td>09:00:00</td>\n",
       "      <td>1475571600000000000</td>\n",
       "    </tr>\n",
       "    <tr>\n",
       "      <th>3885</th>\n",
       "      <td>BHMBCCTHL01</td>\n",
       "      <td>387</td>\n",
       "      <td>204</td>\n",
       "      <td>2016-10-04 09:32:46</td>\n",
       "      <td>50</td>\n",
       "      <td>2016-10-04</td>\n",
       "      <td>2016-10-04 09:30:00</td>\n",
       "      <td>09:30:00</td>\n",
       "      <td>1475573400000000000</td>\n",
       "    </tr>\n",
       "    <tr>\n",
       "      <th>3886</th>\n",
       "      <td>BHMBCCTHL01</td>\n",
       "      <td>387</td>\n",
       "      <td>236</td>\n",
       "      <td>2016-10-04 09:59:48</td>\n",
       "      <td>60</td>\n",
       "      <td>2016-10-04</td>\n",
       "      <td>2016-10-04 10:00:00</td>\n",
       "      <td>10:00:00</td>\n",
       "      <td>1475575200000000000</td>\n",
       "    </tr>\n",
       "    <tr>\n",
       "      <th>...</th>\n",
       "      <td>...</td>\n",
       "      <td>...</td>\n",
       "      <td>...</td>\n",
       "      <td>...</td>\n",
       "      <td>...</td>\n",
       "      <td>...</td>\n",
       "      <td>...</td>\n",
       "      <td>...</td>\n",
       "      <td>...</td>\n",
       "    </tr>\n",
       "    <tr>\n",
       "      <th>1307</th>\n",
       "      <td>BHMBCCMKT01</td>\n",
       "      <td>577</td>\n",
       "      <td>309</td>\n",
       "      <td>2016-12-19 14:30:33</td>\n",
       "      <td>50</td>\n",
       "      <td>2016-12-19</td>\n",
       "      <td>2016-12-19 14:30:00</td>\n",
       "      <td>14:30:00</td>\n",
       "      <td>1482157800000000000</td>\n",
       "    </tr>\n",
       "    <tr>\n",
       "      <th>1308</th>\n",
       "      <td>BHMBCCMKT01</td>\n",
       "      <td>577</td>\n",
       "      <td>300</td>\n",
       "      <td>2016-12-19 15:03:34</td>\n",
       "      <td>50</td>\n",
       "      <td>2016-12-19</td>\n",
       "      <td>2016-12-19 15:00:00</td>\n",
       "      <td>15:00:00</td>\n",
       "      <td>1482159600000000000</td>\n",
       "    </tr>\n",
       "    <tr>\n",
       "      <th>1309</th>\n",
       "      <td>BHMBCCMKT01</td>\n",
       "      <td>577</td>\n",
       "      <td>274</td>\n",
       "      <td>2016-12-19 15:29:33</td>\n",
       "      <td>50</td>\n",
       "      <td>2016-12-19</td>\n",
       "      <td>2016-12-19 15:30:00</td>\n",
       "      <td>15:30:00</td>\n",
       "      <td>1482161400000000000</td>\n",
       "    </tr>\n",
       "    <tr>\n",
       "      <th>1310</th>\n",
       "      <td>BHMBCCMKT01</td>\n",
       "      <td>577</td>\n",
       "      <td>230</td>\n",
       "      <td>2016-12-19 16:03:35</td>\n",
       "      <td>40</td>\n",
       "      <td>2016-12-19</td>\n",
       "      <td>2016-12-19 16:00:00</td>\n",
       "      <td>16:00:00</td>\n",
       "      <td>1482163200000000000</td>\n",
       "    </tr>\n",
       "    <tr>\n",
       "      <th>1311</th>\n",
       "      <td>BHMBCCMKT01</td>\n",
       "      <td>577</td>\n",
       "      <td>193</td>\n",
       "      <td>2016-12-19 16:30:35</td>\n",
       "      <td>30</td>\n",
       "      <td>2016-12-19</td>\n",
       "      <td>2016-12-19 16:30:00</td>\n",
       "      <td>16:30:00</td>\n",
       "      <td>1482165000000000000</td>\n",
       "    </tr>\n",
       "  </tbody>\n",
       "</table>\n",
       "<p>2614 rows × 9 columns</p>\n",
       "</div>"
      ],
      "text/plain": [
       "     SystemCodeNumber  Capacity  Occupancy         LastUpdated  \\\n",
       "3882      BHMBCCTHL01       387        120 2016-10-04 07:59:42   \n",
       "3883      BHMBCCTHL01       387        129 2016-10-04 08:25:42   \n",
       "3884      BHMBCCTHL01       387        155 2016-10-04 08:59:42   \n",
       "3885      BHMBCCTHL01       387        204 2016-10-04 09:32:46   \n",
       "3886      BHMBCCTHL01       387        236 2016-10-04 09:59:48   \n",
       "...               ...       ...        ...                 ...   \n",
       "1307      BHMBCCMKT01       577        309 2016-12-19 14:30:33   \n",
       "1308      BHMBCCMKT01       577        300 2016-12-19 15:03:34   \n",
       "1309      BHMBCCMKT01       577        274 2016-12-19 15:29:33   \n",
       "1310      BHMBCCMKT01       577        230 2016-12-19 16:03:35   \n",
       "1311      BHMBCCMKT01       577        193 2016-12-19 16:30:35   \n",
       "\n",
       "      OccupationRate        date  date_time_halfhour      time  \\\n",
       "3882              30  2016-10-04 2016-10-04 08:00:00  08:00:00   \n",
       "3883              30  2016-10-04 2016-10-04 08:30:00  08:30:00   \n",
       "3884              40  2016-10-04 2016-10-04 09:00:00  09:00:00   \n",
       "3885              50  2016-10-04 2016-10-04 09:30:00  09:30:00   \n",
       "3886              60  2016-10-04 2016-10-04 10:00:00  10:00:00   \n",
       "...              ...         ...                 ...       ...   \n",
       "1307              50  2016-12-19 2016-12-19 14:30:00  14:30:00   \n",
       "1308              50  2016-12-19 2016-12-19 15:00:00  15:00:00   \n",
       "1309              50  2016-12-19 2016-12-19 15:30:00  15:30:00   \n",
       "1310              40  2016-12-19 2016-12-19 16:00:00  16:00:00   \n",
       "1311              30  2016-12-19 2016-12-19 16:30:00  16:30:00   \n",
       "\n",
       "      ndate_time_halfhour  \n",
       "3882  1475568000000000000  \n",
       "3883  1475569800000000000  \n",
       "3884  1475571600000000000  \n",
       "3885  1475573400000000000  \n",
       "3886  1475575200000000000  \n",
       "...                   ...  \n",
       "1307  1482157800000000000  \n",
       "1308  1482159600000000000  \n",
       "1309  1482161400000000000  \n",
       "1310  1482163200000000000  \n",
       "1311  1482165000000000000  \n",
       "\n",
       "[2614 rows x 9 columns]"
      ]
     },
     "execution_count": 23,
     "metadata": {},
     "output_type": "execute_result"
    }
   ],
   "source": [
    "joined = pd.concat([join1, join2])\n",
    "joined"
   ]
  },
  {
   "cell_type": "code",
   "execution_count": 24,
   "metadata": {},
   "outputs": [
    {
     "data": {
      "text/html": [
       "<div>\n",
       "<style scoped>\n",
       "    .dataframe tbody tr th:only-of-type {\n",
       "        vertical-align: middle;\n",
       "    }\n",
       "\n",
       "    .dataframe tbody tr th {\n",
       "        vertical-align: top;\n",
       "    }\n",
       "\n",
       "    .dataframe thead tr th {\n",
       "        text-align: left;\n",
       "    }\n",
       "\n",
       "    .dataframe thead tr:last-of-type th {\n",
       "        text-align: right;\n",
       "    }\n",
       "</style>\n",
       "<table border=\"1\" class=\"dataframe\">\n",
       "  <thead>\n",
       "    <tr>\n",
       "      <th></th>\n",
       "      <th colspan=\"2\" halign=\"left\">OccupationRate</th>\n",
       "      <th colspan=\"2\" halign=\"left\">ndate_time_halfhour</th>\n",
       "    </tr>\n",
       "    <tr>\n",
       "      <th>SystemCodeNumber</th>\n",
       "      <th>BHMBCCMKT01</th>\n",
       "      <th>BHMBCCTHL01</th>\n",
       "      <th>BHMBCCMKT01</th>\n",
       "      <th>BHMBCCTHL01</th>\n",
       "    </tr>\n",
       "    <tr>\n",
       "      <th>date_time_halfhour</th>\n",
       "      <th></th>\n",
       "      <th></th>\n",
       "      <th></th>\n",
       "      <th></th>\n",
       "    </tr>\n",
       "  </thead>\n",
       "  <tbody>\n",
       "    <tr>\n",
       "      <th>2016-10-04 08:00:00</th>\n",
       "      <td>10</td>\n",
       "      <td>30</td>\n",
       "      <td>1475568000000000000</td>\n",
       "      <td>1475568000000000000</td>\n",
       "    </tr>\n",
       "    <tr>\n",
       "      <th>2016-10-04 08:30:00</th>\n",
       "      <td>10</td>\n",
       "      <td>30</td>\n",
       "      <td>1475569800000000000</td>\n",
       "      <td>1475569800000000000</td>\n",
       "    </tr>\n",
       "    <tr>\n",
       "      <th>2016-10-04 09:00:00</th>\n",
       "      <td>10</td>\n",
       "      <td>40</td>\n",
       "      <td>1475571600000000000</td>\n",
       "      <td>1475571600000000000</td>\n",
       "    </tr>\n",
       "    <tr>\n",
       "      <th>2016-10-04 09:30:00</th>\n",
       "      <td>20</td>\n",
       "      <td>50</td>\n",
       "      <td>1475573400000000000</td>\n",
       "      <td>1475573400000000000</td>\n",
       "    </tr>\n",
       "    <tr>\n",
       "      <th>2016-10-04 10:00:00</th>\n",
       "      <td>20</td>\n",
       "      <td>60</td>\n",
       "      <td>1475575200000000000</td>\n",
       "      <td>1475575200000000000</td>\n",
       "    </tr>\n",
       "  </tbody>\n",
       "</table>\n",
       "</div>"
      ],
      "text/plain": [
       "                    OccupationRate              ndate_time_halfhour  \\\n",
       "SystemCodeNumber       BHMBCCMKT01 BHMBCCTHL01          BHMBCCMKT01   \n",
       "date_time_halfhour                                                    \n",
       "2016-10-04 08:00:00             10          30  1475568000000000000   \n",
       "2016-10-04 08:30:00             10          30  1475569800000000000   \n",
       "2016-10-04 09:00:00             10          40  1475571600000000000   \n",
       "2016-10-04 09:30:00             20          50  1475573400000000000   \n",
       "2016-10-04 10:00:00             20          60  1475575200000000000   \n",
       "\n",
       "                                          \n",
       "SystemCodeNumber             BHMBCCTHL01  \n",
       "date_time_halfhour                        \n",
       "2016-10-04 08:00:00  1475568000000000000  \n",
       "2016-10-04 08:30:00  1475569800000000000  \n",
       "2016-10-04 09:00:00  1475571600000000000  \n",
       "2016-10-04 09:30:00  1475573400000000000  \n",
       "2016-10-04 10:00:00  1475575200000000000  "
      ]
     },
     "execution_count": 24,
     "metadata": {},
     "output_type": "execute_result"
    }
   ],
   "source": [
    "piv_join = joined.pivot(index=\"date_time_halfhour\", columns=\"SystemCodeNumber\", values=[\"OccupationRate\", \"ndate_time_halfhour\"])\n",
    "piv_join.head()"
   ]
  },
  {
   "cell_type": "code",
   "execution_count": 25,
   "metadata": {},
   "outputs": [
    {
     "data": {
      "text/html": [
       "<div>\n",
       "<style scoped>\n",
       "    .dataframe tbody tr th:only-of-type {\n",
       "        vertical-align: middle;\n",
       "    }\n",
       "\n",
       "    .dataframe tbody tr th {\n",
       "        vertical-align: top;\n",
       "    }\n",
       "\n",
       "    .dataframe thead tr th {\n",
       "        text-align: left;\n",
       "    }\n",
       "\n",
       "    .dataframe thead tr:last-of-type th {\n",
       "        text-align: right;\n",
       "    }\n",
       "</style>\n",
       "<table border=\"1\" class=\"dataframe\">\n",
       "  <thead>\n",
       "    <tr>\n",
       "      <th></th>\n",
       "      <th></th>\n",
       "      <th colspan=\"2\" halign=\"left\">OccupationRate</th>\n",
       "      <th colspan=\"2\" halign=\"left\">ndate_time_halfhour</th>\n",
       "    </tr>\n",
       "    <tr>\n",
       "      <th></th>\n",
       "      <th>SystemCodeNumber</th>\n",
       "      <th>BHMBCCMKT01</th>\n",
       "      <th>BHMBCCTHL01</th>\n",
       "      <th>BHMBCCMKT01</th>\n",
       "      <th>BHMBCCTHL01</th>\n",
       "    </tr>\n",
       "    <tr>\n",
       "      <th></th>\n",
       "      <th>SystemCodeNumber</th>\n",
       "      <th></th>\n",
       "      <th></th>\n",
       "      <th></th>\n",
       "      <th></th>\n",
       "    </tr>\n",
       "  </thead>\n",
       "  <tbody>\n",
       "    <tr>\n",
       "      <th rowspan=\"2\" valign=\"top\">OccupationRate</th>\n",
       "      <th>BHMBCCMKT01</th>\n",
       "      <td>1.000000</td>\n",
       "      <td>0.631043</td>\n",
       "      <td>-0.023568</td>\n",
       "      <td>-0.023568</td>\n",
       "    </tr>\n",
       "    <tr>\n",
       "      <th>BHMBCCTHL01</th>\n",
       "      <td>0.631043</td>\n",
       "      <td>1.000000</td>\n",
       "      <td>0.332078</td>\n",
       "      <td>0.332078</td>\n",
       "    </tr>\n",
       "    <tr>\n",
       "      <th rowspan=\"2\" valign=\"top\">ndate_time_halfhour</th>\n",
       "      <th>BHMBCCMKT01</th>\n",
       "      <td>-0.023568</td>\n",
       "      <td>0.332078</td>\n",
       "      <td>1.000000</td>\n",
       "      <td>1.000000</td>\n",
       "    </tr>\n",
       "    <tr>\n",
       "      <th>BHMBCCTHL01</th>\n",
       "      <td>-0.023568</td>\n",
       "      <td>0.332078</td>\n",
       "      <td>1.000000</td>\n",
       "      <td>1.000000</td>\n",
       "    </tr>\n",
       "  </tbody>\n",
       "</table>\n",
       "</div>"
      ],
      "text/plain": [
       "                                     OccupationRate              \\\n",
       "SystemCodeNumber                        BHMBCCMKT01 BHMBCCTHL01   \n",
       "                    SystemCodeNumber                              \n",
       "OccupationRate      BHMBCCMKT01            1.000000    0.631043   \n",
       "                    BHMBCCTHL01            0.631043    1.000000   \n",
       "ndate_time_halfhour BHMBCCMKT01           -0.023568    0.332078   \n",
       "                    BHMBCCTHL01           -0.023568    0.332078   \n",
       "\n",
       "                                     ndate_time_halfhour              \n",
       "SystemCodeNumber                             BHMBCCMKT01 BHMBCCTHL01  \n",
       "                    SystemCodeNumber                                  \n",
       "OccupationRate      BHMBCCMKT01                -0.023568   -0.023568  \n",
       "                    BHMBCCTHL01                 0.332078    0.332078  \n",
       "ndate_time_halfhour BHMBCCMKT01                 1.000000    1.000000  \n",
       "                    BHMBCCTHL01                 1.000000    1.000000  "
      ]
     },
     "execution_count": 25,
     "metadata": {},
     "output_type": "execute_result"
    }
   ],
   "source": [
    "piv_join.corr()"
   ]
  },
  {
   "cell_type": "code",
   "execution_count": 26,
   "metadata": {},
   "outputs": [
    {
     "name": "stdout",
     "output_type": "stream",
     "text": [
      "[('OccupationRate', 'BHMBCCMKT01'), ('OccupationRate', 'BHMBCCTHL01'), ('ndate_time_halfhour', 'BHMBCCMKT01'), ('ndate_time_halfhour', 'BHMBCCTHL01')]\n"
     ]
    },
    {
     "data": {
      "text/plain": [
       "date_time_halfhour\n",
       "2016-10-04 08:00:00    10\n",
       "2016-10-04 08:30:00    10\n",
       "2016-10-04 09:00:00    10\n",
       "2016-10-04 09:30:00    20\n",
       "2016-10-04 10:00:00    20\n",
       "                       ..\n",
       "2016-12-19 14:30:00    50\n",
       "2016-12-19 15:00:00    50\n",
       "2016-12-19 15:30:00    50\n",
       "2016-12-19 16:00:00    40\n",
       "2016-12-19 16:30:00    30\n",
       "Name: (OccupationRate, BHMBCCMKT01), Length: 1307, dtype: int64"
      ]
     },
     "execution_count": 26,
     "metadata": {},
     "output_type": "execute_result"
    }
   ],
   "source": [
    "# Creating test and train models\n",
    "#using X to predict label Y\n",
    "X = piv_join.drop([('OccupationRate','BHMBCCMKT01'), ('ndate_time_halfhour', 'BHMBCCMKT01')], axis=1)\n",
    "y = piv_join[('OccupationRate', 'BHMBCCMKT01')]\n",
    "# y = y.astype(int)\n",
    "print(list(piv_join.columns))\n",
    "y"
   ]
  },
  {
   "cell_type": "code",
   "execution_count": 27,
   "metadata": {},
   "outputs": [],
   "source": [
    "# train test split 1\n",
    "from sklearn.model_selection import train_test_split\n",
    "X_train,X_test,y_train,y_test=train_test_split(X,y,train_size=0.5,test_size=0.5, random_state = 10)"
   ]
  },
  {
   "cell_type": "code",
   "execution_count": 28,
   "metadata": {},
   "outputs": [],
   "source": [
    "from sklearn.linear_model import LogisticRegression\n",
    "from sklearn.linear_model import LinearRegression\n",
    "from sklearn.model_selection import KFold\n",
    "from sklearn.model_selection import cross_val_score\n",
    "from sklearn.model_selection import cross_val_predict\n",
    "from matplotlib import pyplot as plt\n",
    "from sklearn.ensemble import RandomForestRegressor\n",
    "from sklearn import svm\n",
    "from sklearn import tree\n",
    "from sklearn.neighbors import KNeighborsRegressor\n",
    "\n",
    "from sklearn.metrics import mean_absolute_error\n",
    "import statsmodels.api as sm\n",
    "from statsmodels.tools.eval_measures import mse, rmse\n",
    "from sklearn.metrics import r2_score\n",
    "pd.options.display.float_format = '{:.5f}'.format\n",
    "import warnings\n",
    "import math\n",
    "import scipy.stats as stats\n",
    "import scipy\n",
    "from sklearn.preprocessing import scale\n",
    "from sklearn.metrics import explained_variance_score"
   ]
  },
  {
   "cell_type": "code",
   "execution_count": 29,
   "metadata": {},
   "outputs": [],
   "source": [
    "models = []\n",
    "models.append(('LR', LinearRegression()))\n",
    "models.append(('KNN', KNeighborsRegressor()))\n",
    "models.append(('DTR', tree.DecisionTreeRegressor()))\n",
    "models.append(('RF', RandomForestRegressor(max_depth = 20, min_samples_split=2, n_estimators = 100, random_state = 1)))"
   ]
  },
  {
   "cell_type": "code",
   "execution_count": 30,
   "metadata": {},
   "outputs": [
    {
     "name": "stdout",
     "output_type": "stream",
     "text": [
      "LR -13.049048584652216 0.43578369756897556 -9.486231857357321\n",
      "KNN -12.62362955893799 0.43932246998194097 -9.516643356643357\n",
      "DTR -8.105422019955883 0.7685290756944976 -4.76107226107226\n",
      "RF -7.364385584523117 0.8056481021863469 -5.154314685314685\n",
      "Done\n"
     ]
    }
   ],
   "source": [
    "nfolds=10\n",
    "i=0\n",
    "results = []\n",
    "for name, model in models:\n",
    "    kf = KFold(n_splits=nfolds)\n",
    "    score = cross_val_score(model, X_train, y_train, cv=nfolds, scoring= 'neg_root_mean_squared_error')\n",
    "    score2 = cross_val_score(model, X_train, y_train, cv=nfolds, scoring= 'r2')\n",
    "    score3 = cross_val_score(model, X_train, y_train, cv=nfolds, scoring= 'neg_mean_absolute_error')\n",
    "    results.append((name, score))\n",
    "    if score.mean() > i:\n",
    "        imodel=model\n",
    "        i=score.mean()\n",
    "    print(name, score.mean(), score2.mean(), score3.mean())\n",
    "print(\"Done\")"
   ]
  },
  {
   "cell_type": "code",
   "execution_count": 31,
   "metadata": {},
   "outputs": [
    {
     "name": "stdout",
     "output_type": "stream",
     "text": [
      "RF 1 -7.692723542136919\n",
      "RF 2 -7.313285554359375\n",
      "RF 3 -7.374177563091071\n",
      "Done\n"
     ]
    }
   ],
   "source": [
    "models = []\n",
    "models.append(('RF 1', RandomForestRegressor(max_depth = 10, min_samples_split=2, n_estimators = 50, random_state = 1)))\n",
    "models.append(('RF 2', RandomForestRegressor(max_depth = 20, min_samples_split=2, n_estimators = 50, random_state = 2)))\n",
    "models.append(('RF 3', RandomForestRegressor(max_depth = 30, min_samples_split=2, n_estimators = 50, random_state = 3)))\n",
    "\n",
    "nfolds=10\n",
    "i=0\n",
    "results = []\n",
    "for name, model in models:\n",
    "    kf = KFold(n_splits=nfolds)\n",
    "    score = cross_val_score(model, X_train, y_train, cv=nfolds, scoring= 'neg_root_mean_squared_error')\n",
    "    results.append((name, score))\n",
    "    if score.mean() > i:\n",
    "        imodel=model\n",
    "        i=score.mean()\n",
    "    print(name, score.mean())\n",
    "print(\"Done\")"
   ]
  },
  {
   "cell_type": "code",
   "execution_count": 32,
   "metadata": {},
   "outputs": [
    {
     "name": "stdout",
     "output_type": "stream",
     "text": [
      "RF 2.1 -7.397981243204822\n",
      "RF 2.2 -7.321812170032183\n",
      "RF 2.3 -7.3181418205531825\n",
      "Done\n"
     ]
    }
   ],
   "source": [
    "models = []\n",
    "models.append(('RF 2.1', RandomForestRegressor(max_depth = 20, min_samples_split=2, n_estimators = 50, random_state = 1)))\n",
    "models.append(('RF 2.2', RandomForestRegressor(max_depth = 20, min_samples_split=2, n_estimators = 100, random_state = 2)))\n",
    "models.append(('RF 2.3', RandomForestRegressor(max_depth = 20, min_samples_split=2, n_estimators = 150, random_state = 2)))\n",
    "\n",
    "nfolds=10\n",
    "i=0\n",
    "results = []\n",
    "for name, model in models:\n",
    "    kf = KFold(n_splits=nfolds)\n",
    "    score = cross_val_score(model, X_train, y_train, cv=nfolds, scoring= 'neg_root_mean_squared_error')\n",
    "    results.append((name, score))\n",
    "    if score.mean() > i:\n",
    "        imodel=model\n",
    "        i=score.mean()\n",
    "    print(name, score.mean())\n",
    "print(\"Done\")"
   ]
  },
  {
   "cell_type": "code",
   "execution_count": 33,
   "metadata": {},
   "outputs": [
    {
     "data": {
      "image/png": "[encoded data removed]",
      "text/plain": [
       "<Figure size 432x288 with 1 Axes>"
      ]
     },
     "metadata": {
      "needs_background": "light"
     },
     "output_type": "display_data"
    },
    {
     "name": "stdout",
     "output_type": "stream",
     "text": [
      "Mean Absolute Error (MAE) : 5.153866270512699\n",
      "Root Mean Squared Error (RMSE) : 7.320795165109317\n",
      "r2 Score : 0.8222928694459667\n"
     ]
    }
   ],
   "source": [
    "#First RF model\n",
    "\n",
    "clf=RandomForestRegressor(max_depth = 10, min_samples_split=2, n_estimators = 50, random_state = 10)\n",
    "\n",
    "#Train the model using the training sets y_pred=clf.predict(X_test)\n",
    "clf.fit(X_train,y_train)\n",
    "\n",
    "y_pred=clf.predict(X_test)\n",
    "\n",
    "plt.plot(y_pred)\n",
    "plt.show()\n",
    "\n",
    "print(\"Mean Absolute Error (MAE) : {}\".format(mean_absolute_error(y_test, y_pred)))\n",
    "print(\"Root Mean Squared Error (RMSE) : {}\".format(rmse(y_test, y_pred)))\n",
    "print(\"r2 Score : {}\".format(r2_score(y_test, y_pred,multioutput='variance_weighted')))"
   ]
  },
  {
   "cell_type": "code",
   "execution_count": 34,
   "metadata": {},
   "outputs": [
    {
     "data": {
      "image/png": "[encoded data removed]",
      "text/plain": [
       "<Figure size 432x288 with 1 Axes>"
      ]
     },
     "metadata": {
      "needs_background": "light"
     },
     "output_type": "display_data"
    },
    {
     "name": "stdout",
     "output_type": "stream",
     "text": [
      "27.365800203873597\n",
      "Mean Absolute Error (MAE) : 4.635830784913353\n",
      "Root Mean Squared Error (RMSE) : 6.650042601270221\n",
      "r2 score : 0.8533651503346815\n"
     ]
    }
   ],
   "source": [
    "clf=RandomForestRegressor(max_depth = 20, min_samples_split=2, n_estimators = 100, random_state = 20)\n",
    "\n",
    "#Train the model using the training sets y_pred=clf.predict(X_test)\n",
    "clf.fit(X_train,y_train)\n",
    "\n",
    "y_pred=clf.predict(X_test)\n",
    "\n",
    "plt.plot(y_pred)\n",
    "plt.show()\n",
    "\n",
    "print(y_pred.mean())\n",
    "print(\"Mean Absolute Error (MAE) : {}\".format(mean_absolute_error(y_test, y_pred)))\n",
    "print(\"Root Mean Squared Error (RMSE) : {}\".format(rmse(y_test, y_pred)))\n",
    "print(\"r2 score : {}\".format(r2_score(y_test, y_pred,multioutput='variance_weighted')))"
   ]
  },
  {
   "cell_type": "code",
   "execution_count": 35,
   "metadata": {},
   "outputs": [],
   "source": [
    "# train test split 1\n",
    "from sklearn.model_selection import train_test_split\n",
    "X_train,X_test,y_train,y_test=train_test_split(X,y,train_size=0.8,test_size=0.2, random_state = 20)"
   ]
  },
  {
   "cell_type": "code",
   "execution_count": 36,
   "metadata": {},
   "outputs": [
    {
     "name": "stdout",
     "output_type": "stream",
     "text": [
      "27.556078698655032\n",
      "Mean Absolute Error (MAE) : 4.153272446383133\n",
      "Root Mean Squared Error (RMSE) : 5.959960309359441\n",
      "r2 score : 0.8786740324931772\n"
     ]
    }
   ],
   "source": [
    "clf=RandomForestRegressor(max_depth = 20, min_samples_split=2, n_estimators = 100, random_state = 20)\n",
    "\n",
    "#Train the model using the training sets y_pred=clf.predict(X_test)\n",
    "clf.fit(X_train,y_train)\n",
    "\n",
    "y_pred=clf.predict(X_test)\n",
    "\n",
    "print(y_pred.mean())\n",
    "print(\"Mean Absolute Error (MAE) : {}\".format(mean_absolute_error(y_test, y_pred)))\n",
    "print(\"Root Mean Squared Error (RMSE) : {}\".format(rmse(y_test, y_pred)))\n",
    "print(\"r2 score : {}\".format(r2_score(y_test, y_pred,multioutput='variance_weighted')))"
   ]
  },
  {
   "cell_type": "code",
   "execution_count": 37,
   "metadata": {},
   "outputs": [
    {
     "name": "stdout",
     "output_type": "stream",
     "text": [
      "[('OccupationRate', 'BHMBCCMKT01'), ('OccupationRate', 'BHMBCCTHL01'), ('ndate_time_halfhour', 'BHMBCCMKT01'), ('ndate_time_halfhour', 'BHMBCCTHL01')]\n"
     ]
    },
    {
     "data": {
      "text/plain": [
       "date_time_halfhour\n",
       "2016-10-04 08:00:00     30\n",
       "2016-10-04 08:30:00     30\n",
       "2016-10-04 09:00:00     40\n",
       "2016-10-04 09:30:00     50\n",
       "2016-10-04 10:00:00     60\n",
       "                      ... \n",
       "2016-12-19 14:30:00    100\n",
       "2016-12-19 15:00:00    100\n",
       "2016-12-19 15:30:00    100\n",
       "2016-12-19 16:00:00    100\n",
       "2016-12-19 16:30:00    100\n",
       "Name: (OccupationRate, BHMBCCTHL01), Length: 1307, dtype: int64"
      ]
     },
     "execution_count": 37,
     "metadata": {},
     "output_type": "execute_result"
    }
   ],
   "source": [
    "# Creating test and train models\n",
    "#using X to predict label Y\n",
    "X = piv_join.drop([('OccupationRate','BHMBCCTHL01'), ('ndate_time_halfhour', 'BHMBCCTHL01')], axis=1)\n",
    "y = piv_join[('OccupationRate', 'BHMBCCTHL01')]\n",
    "# y = y.astype(int)\n",
    "print(list(piv_join.columns))\n",
    "y"
   ]
  },
  {
   "cell_type": "code",
   "execution_count": 38,
   "metadata": {},
   "outputs": [
    {
     "data": {
      "image/png": "[encoded data removed]",
      "text/plain": [
       "<Figure size 432x288 with 1 Axes>"
      ]
     },
     "metadata": {
      "needs_background": "light"
     },
     "output_type": "display_data"
    },
    {
     "name": "stdout",
     "output_type": "stream",
     "text": [
      "74.65683574674729\n",
      "Mean Absolute Error (MAE) : 6.765090461852929\n",
      "Root Mean Squared Error (RMSE) : 9.619836280600111\n",
      "r2 score : 0.8353128393567983\n"
     ]
    }
   ],
   "source": [
    "# train test split 2\n",
    "from sklearn.model_selection import train_test_split\n",
    "X_train,X_test,y_train,y_test=train_test_split(X,y,train_size=0.5,test_size=0.5, random_state = 30)\n",
    "\n",
    "\n",
    "clf=RandomForestRegressor(max_depth = 10, min_samples_split=2, n_estimators = 50, random_state = 4)\n",
    "\n",
    "#Train the model using the training sets y_pred=clf.predict(X_test)\n",
    "clf.fit(X_train,y_train)\n",
    "\n",
    "y_pred=clf.predict(X_test)\n",
    "\n",
    "plt.plot(y_pred)\n",
    "plt.show()\n",
    "\n",
    "print(y_pred.mean())\n",
    "print(\"Mean Absolute Error (MAE) : {}\".format(mean_absolute_error(y_test, y_pred)))\n",
    "print(\"Root Mean Squared Error (RMSE) : {}\".format(rmse(y_test, y_pred)))\n",
    "print(\"r2 score : {}\".format(r2_score(y_test, y_pred,multioutput='variance_weighted')))"
   ]
  },
  {
   "cell_type": "code",
   "execution_count": 39,
   "metadata": {},
   "outputs": [
    {
     "data": {
      "image/png": "[encoded data removed]",
      "text/plain": [
       "<Figure size 432x288 with 1 Axes>"
      ]
     },
     "metadata": {
      "needs_background": "light"
     },
     "output_type": "display_data"
    },
    {
     "name": "stdout",
     "output_type": "stream",
     "text": [
      "75.8030534351145\n",
      "Mean Absolute Error (MAE) : 5.31145038167939\n",
      "Root Mean Squared Error (RMSE) : 8.113009061410837\n",
      "r2 score : 0.8617544263749713\n"
     ]
    }
   ],
   "source": [
    "# train test split 3\n",
    "from sklearn.model_selection import train_test_split\n",
    "X_train,X_test,y_train,y_test=train_test_split(X,y,train_size=0.8,test_size=0.2, random_state = 42)\n",
    "\n",
    "clf=RandomForestRegressor(max_depth = 20, min_samples_split=2, n_estimators = 100, random_state = 4)\n",
    "\n",
    "#Train the model using the training sets y_pred=clf.predict(X_test)\n",
    "clf.fit(X_train,y_train)\n",
    "\n",
    "y_pred=clf.predict(X_test)\n",
    "\n",
    "plt.plot(y_pred)\n",
    "plt.show()\n",
    "print(y_pred.mean())\n",
    "\n",
    "print(\"Mean Absolute Error (MAE) : {}\".format(mean_absolute_error(y_test, y_pred)))\n",
    "print(\"Root Mean Squared Error (RMSE) : {}\".format(rmse(y_test, y_pred)))\n",
    "print(\"r2 score : {}\".format(r2_score(y_test, y_pred,multioutput='variance_weighted')))"
   ]
  },
  {
   "cell_type": "code",
   "execution_count": null,
   "metadata": {},
   "outputs": [],
   "source": []
  }
 ],
 "metadata": {
  "kernelspec": {
   "display_name": "Python 3",
   "language": "python",
   "name": "python3"
  },
  "language_info": {
   "codemirror_mode": {
    "name": "ipython",
    "version": 3
   },
   "file_extension": ".py",
   "mimetype": "text/x-python",
   "name": "python",
   "nbconvert_exporter": "python",
   "pygments_lexer": "ipython3",
   "version": "3.7.0"
  }
 },
 "nbformat": 4,
 "nbformat_minor": 2
}
